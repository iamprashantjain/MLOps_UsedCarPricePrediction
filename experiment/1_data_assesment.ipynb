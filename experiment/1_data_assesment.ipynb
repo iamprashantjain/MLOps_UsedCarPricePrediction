{
 "cells": [
  {
   "cell_type": "code",
   "execution_count": 7,
   "id": "8d9e9279",
   "metadata": {},
   "outputs": [],
   "source": [
    "import pandas as pd\n",
    "import numpy as np"
   ]
  },
  {
   "cell_type": "code",
   "execution_count": 8,
   "id": "518b8c2d",
   "metadata": {},
   "outputs": [],
   "source": [
    "df = pd.read_csv(r\"D:\\campusx_dsmp2\\9. MLOps revisited\\cars24_mlops_project\\scraper\\cars24_allCityIds_data.csv\")"
   ]
  },
  {
   "cell_type": "code",
   "execution_count": 35,
   "id": "77fe4723",
   "metadata": {},
   "outputs": [
    {
     "data": {
      "text/plain": [
       "Index(['appointmentId', 'maskedRegNum', 'cityId', 'listingPrice', 'carName',\n",
       "       'make', 'model', 'variant', 'year', 'transmissionType', 'bodyType',\n",
       "       'fuelType', 'ownership', 'registrationDate', 'cityRto', 'color',\n",
       "       'odometer', 'emiDetails', 'modelGroup', 'oemServiceHistoryAvailable',\n",
       "       'fitnessAge', 'features'],\n",
       "      dtype='object')"
      ]
     },
     "execution_count": 35,
     "metadata": {},
     "output_type": "execute_result"
    }
   ],
   "source": [
    "df.columns"
   ]
  },
  {
   "cell_type": "markdown",
   "id": "865da6fa",
   "metadata": {},
   "source": [
    "#### data summary\n",
    "\n",
    "- data extracted from Cars24 for all cities\n",
    "- `appointmentId`: all appointment Ids could be used as unique identification number\n",
    "- `maskedRegNum`: delete since we already have cityrto column for city info\n",
    "- `cityId`: delete this as not much info\n",
    "- `listingPrice`: target price\n",
    "- `carname`: car name\n",
    "- `make`: car company\n",
    "- `model`: car model\n",
    "- `variant`: variant\n",
    "- `year`: year of registration\n",
    "- `transmission`: contains dictionary, need to extract values\n",
    "- `bodyType`: bodyType\n",
    "- `fuelType`: fuelType\n",
    "- `ownership`: ownership\n",
    "- `registrationDate`: change this to datetime format\n",
    "- `cityRto`: city info, map this with city\n",
    "- `color`: color\n",
    "- `odometer`: extract odometer reading\n",
    "- `emiDetails`: expand this column for more information\n",
    "- `modelGroup`: modelGroup\n",
    "- `oemServiceHistoryAvailable`: delete this since no variance\n",
    "- `fitnessAge`: fitnessAge\n",
    "- `features`: features of car ( need to process them differently)"
   ]
  },
  {
   "cell_type": "code",
   "execution_count": 37,
   "id": "542249e8",
   "metadata": {},
   "outputs": [],
   "source": [
    "df.drop(columns=['maskedRegNum','cityId','oemServiceHistoryAvailable'], inplace=True)"
   ]
  },
  {
   "cell_type": "code",
   "execution_count": 43,
   "id": "4662ef95",
   "metadata": {},
   "outputs": [
    {
     "data": {
      "text/html": [
       "<div>\n",
       "<style scoped>\n",
       "    .dataframe tbody tr th:only-of-type {\n",
       "        vertical-align: middle;\n",
       "    }\n",
       "\n",
       "    .dataframe tbody tr th {\n",
       "        vertical-align: top;\n",
       "    }\n",
       "\n",
       "    .dataframe thead th {\n",
       "        text-align: right;\n",
       "    }\n",
       "</style>\n",
       "<table border=\"1\" class=\"dataframe\">\n",
       "  <thead>\n",
       "    <tr style=\"text-align: right;\">\n",
       "      <th></th>\n",
       "      <th>appointmentId</th>\n",
       "      <th>listingPrice</th>\n",
       "      <th>carName</th>\n",
       "      <th>make</th>\n",
       "      <th>model</th>\n",
       "      <th>variant</th>\n",
       "      <th>year</th>\n",
       "      <th>transmissionType</th>\n",
       "      <th>bodyType</th>\n",
       "      <th>fuelType</th>\n",
       "      <th>ownership</th>\n",
       "      <th>registrationDate</th>\n",
       "      <th>cityRto</th>\n",
       "      <th>color</th>\n",
       "      <th>odometer</th>\n",
       "      <th>emiDetails</th>\n",
       "      <th>modelGroup</th>\n",
       "      <th>fitnessAge</th>\n",
       "      <th>features</th>\n",
       "    </tr>\n",
       "  </thead>\n",
       "  <tbody>\n",
       "    <tr>\n",
       "      <th>1906</th>\n",
       "      <td>13250943796</td>\n",
       "      <td>499000</td>\n",
       "      <td>Hyundai GRAND I10 NIOS</td>\n",
       "      <td>Hyundai</td>\n",
       "      <td>GRAND I10 NIOS</td>\n",
       "      <td>MAGNA AMT 1.2 KAPPA VTVT</td>\n",
       "      <td>2021</td>\n",
       "      <td>{'value': 'Automatic', 'display': 'Auto'}</td>\n",
       "      <td>Hatchback</td>\n",
       "      <td>Petrol</td>\n",
       "      <td>1</td>\n",
       "      <td>1638316800000</td>\n",
       "      <td>UP32</td>\n",
       "      <td>White</td>\n",
       "      <td>{'value': 85472, 'display': '85.47k km'}</td>\n",
       "      <td>{'cashDownPayment': 0, 'emiStartingValue': 975...</td>\n",
       "      <td>i10</td>\n",
       "      <td>15</td>\n",
       "      <td>['RearAc', 'Bluetooth', 'ParkingAssist']</td>\n",
       "    </tr>\n",
       "    <tr>\n",
       "      <th>6166</th>\n",
       "      <td>12281347794</td>\n",
       "      <td>1200000</td>\n",
       "      <td>MG HECTOR</td>\n",
       "      <td>MG</td>\n",
       "      <td>HECTOR</td>\n",
       "      <td>SHARP HYBRID 1.5 PETROL</td>\n",
       "      <td>2020</td>\n",
       "      <td>{'value': 'Manual', 'display': 'Manual'}</td>\n",
       "      <td>SUV</td>\n",
       "      <td>Petrol</td>\n",
       "      <td>1</td>\n",
       "      <td>1580515200000</td>\n",
       "      <td>AP39</td>\n",
       "      <td>Red</td>\n",
       "      <td>{'value': 28372, 'display': '28.37k km'}</td>\n",
       "      <td>{'cashDownPayment': 0, 'emiStartingValue': 228...</td>\n",
       "      <td>HECTOR</td>\n",
       "      <td>15</td>\n",
       "      <td>['InfotainmentSystem', 'RearAc', 'Sunroof/Moon...</td>\n",
       "    </tr>\n",
       "    <tr>\n",
       "      <th>1035</th>\n",
       "      <td>20021236744</td>\n",
       "      <td>1207000</td>\n",
       "      <td>MG HECTOR</td>\n",
       "      <td>MG</td>\n",
       "      <td>HECTOR</td>\n",
       "      <td>SMART 1.5 PETROL CVT</td>\n",
       "      <td>2022</td>\n",
       "      <td>{'value': 'Automatic', 'display': 'Auto'}</td>\n",
       "      <td>SUV</td>\n",
       "      <td>Petrol</td>\n",
       "      <td>1</td>\n",
       "      <td>1659312000000</td>\n",
       "      <td>UP21</td>\n",
       "      <td>White</td>\n",
       "      <td>{'value': 20263, 'display': '20.26k km'}</td>\n",
       "      <td>{'cashDownPayment': 0, 'emiStartingValue': 229...</td>\n",
       "      <td>HECTOR</td>\n",
       "      <td>15</td>\n",
       "      <td>['InfotainmentSystem', 'RearAc', 'LeatherSeats...</td>\n",
       "    </tr>\n",
       "  </tbody>\n",
       "</table>\n",
       "</div>"
      ],
      "text/plain": [
       "     appointmentId  listingPrice                 carName     make  \\\n",
       "1906   13250943796        499000  Hyundai GRAND I10 NIOS  Hyundai   \n",
       "6166   12281347794       1200000               MG HECTOR       MG   \n",
       "1035   20021236744       1207000               MG HECTOR       MG   \n",
       "\n",
       "               model                   variant  year  \\\n",
       "1906  GRAND I10 NIOS  MAGNA AMT 1.2 KAPPA VTVT  2021   \n",
       "6166          HECTOR   SHARP HYBRID 1.5 PETROL  2020   \n",
       "1035          HECTOR      SMART 1.5 PETROL CVT  2022   \n",
       "\n",
       "                               transmissionType   bodyType fuelType  \\\n",
       "1906  {'value': 'Automatic', 'display': 'Auto'}  Hatchback   Petrol   \n",
       "6166   {'value': 'Manual', 'display': 'Manual'}        SUV   Petrol   \n",
       "1035  {'value': 'Automatic', 'display': 'Auto'}        SUV   Petrol   \n",
       "\n",
       "      ownership  registrationDate cityRto  color  \\\n",
       "1906          1     1638316800000    UP32  White   \n",
       "6166          1     1580515200000    AP39    Red   \n",
       "1035          1     1659312000000    UP21  White   \n",
       "\n",
       "                                      odometer  \\\n",
       "1906  {'value': 85472, 'display': '85.47k km'}   \n",
       "6166  {'value': 28372, 'display': '28.37k km'}   \n",
       "1035  {'value': 20263, 'display': '20.26k km'}   \n",
       "\n",
       "                                             emiDetails modelGroup  \\\n",
       "1906  {'cashDownPayment': 0, 'emiStartingValue': 975...        i10   \n",
       "6166  {'cashDownPayment': 0, 'emiStartingValue': 228...     HECTOR   \n",
       "1035  {'cashDownPayment': 0, 'emiStartingValue': 229...     HECTOR   \n",
       "\n",
       "      fitnessAge                                           features  \n",
       "1906          15           ['RearAc', 'Bluetooth', 'ParkingAssist']  \n",
       "6166          15  ['InfotainmentSystem', 'RearAc', 'Sunroof/Moon...  \n",
       "1035          15  ['InfotainmentSystem', 'RearAc', 'LeatherSeats...  "
      ]
     },
     "execution_count": 43,
     "metadata": {},
     "output_type": "execute_result"
    }
   ],
   "source": [
    "df.sample(3)"
   ]
  },
  {
   "cell_type": "code",
   "execution_count": 44,
   "id": "a19cac2d",
   "metadata": {},
   "outputs": [
    {
     "name": "stdout",
     "output_type": "stream",
     "text": [
      "<class 'pandas.core.frame.DataFrame'>\n",
      "Index: 7391 entries, 0 to 8059\n",
      "Data columns (total 19 columns):\n",
      " #   Column            Non-Null Count  Dtype \n",
      "---  ------            --------------  ----- \n",
      " 0   appointmentId     7391 non-null   object\n",
      " 1   listingPrice      7391 non-null   int64 \n",
      " 2   carName           7391 non-null   object\n",
      " 3   make              7391 non-null   object\n",
      " 4   model             7391 non-null   object\n",
      " 5   variant           7391 non-null   object\n",
      " 6   year              7391 non-null   int64 \n",
      " 7   transmissionType  7391 non-null   object\n",
      " 8   bodyType          7391 non-null   object\n",
      " 9   fuelType          7391 non-null   object\n",
      " 10  ownership         7391 non-null   int64 \n",
      " 11  registrationDate  7391 non-null   int64 \n",
      " 12  cityRto           7391 non-null   object\n",
      " 13  color             7343 non-null   object\n",
      " 14  odometer          7391 non-null   object\n",
      " 15  emiDetails        7391 non-null   object\n",
      " 16  modelGroup        7391 non-null   object\n",
      " 17  fitnessAge        7391 non-null   int64 \n",
      " 18  features          7391 non-null   object\n",
      "dtypes: int64(5), object(14)\n",
      "memory usage: 1.1+ MB\n"
     ]
    }
   ],
   "source": [
    "df.info()"
   ]
  },
  {
   "cell_type": "code",
   "execution_count": 45,
   "id": "00a79c1f",
   "metadata": {},
   "outputs": [
    {
     "data": {
      "text/plain": [
       "appointmentId        0\n",
       "listingPrice         0\n",
       "carName              0\n",
       "make                 0\n",
       "model                0\n",
       "variant              0\n",
       "year                 0\n",
       "transmissionType     0\n",
       "bodyType             0\n",
       "fuelType             0\n",
       "ownership            0\n",
       "registrationDate     0\n",
       "cityRto              0\n",
       "color               48\n",
       "odometer             0\n",
       "emiDetails           0\n",
       "modelGroup           0\n",
       "fitnessAge           0\n",
       "features             0\n",
       "dtype: int64"
      ]
     },
     "execution_count": 45,
     "metadata": {},
     "output_type": "execute_result"
    }
   ],
   "source": [
    "df.isnull().sum()"
   ]
  },
  {
   "cell_type": "code",
   "execution_count": 46,
   "id": "baffd521",
   "metadata": {},
   "outputs": [
    {
     "data": {
      "text/plain": [
       "0"
      ]
     },
     "execution_count": 46,
     "metadata": {},
     "output_type": "execute_result"
    }
   ],
   "source": [
    "df.duplicated().sum()"
   ]
  },
  {
   "cell_type": "markdown",
   "id": "72d2fe36",
   "metadata": {},
   "source": [
    "#### export data"
   ]
  },
  {
   "cell_type": "code",
   "execution_count": 47,
   "id": "0788ae65",
   "metadata": {},
   "outputs": [],
   "source": [
    "df.to_excel(\"cars24_v1.xlsx\", index=False)"
   ]
  },
  {
   "cell_type": "code",
   "execution_count": null,
   "id": "717a5fff",
   "metadata": {},
   "outputs": [],
   "source": []
  }
 ],
 "metadata": {
  "kernelspec": {
   "display_name": "Python 3",
   "language": "python",
   "name": "python3"
  },
  "language_info": {
   "codemirror_mode": {
    "name": "ipython",
    "version": 3
   },
   "file_extension": ".py",
   "mimetype": "text/x-python",
   "name": "python",
   "nbconvert_exporter": "python",
   "pygments_lexer": "ipython3",
   "version": "3.8.0"
  }
 },
 "nbformat": 4,
 "nbformat_minor": 5
}
