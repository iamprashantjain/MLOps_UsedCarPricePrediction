{
 "cells": [
  {
   "cell_type": "markdown",
   "id": "4477a3f8",
   "metadata": {},
   "source": [
    "A baseline model generally involves a simple model with minimal preprocessing. We can assume the following:\n",
    "- **Text Vectorization**: OHE\n",
    "- **Scaling**: None (no scaling)\n",
    "- **Feature Selection**: None (no feature selection)\n",
    "- **Imputation**: Mean (for numerical) and Mode (for categorical)\n",
    "- **Algorithm**: Logistic Regression (or a simple model)"
   ]
  },
  {
   "cell_type": "code",
   "execution_count": 14,
   "id": "d82e76ff",
   "metadata": {
    "execution": {
     "iopub.execute_input": "2025-04-29T15:06:10.020280Z",
     "iopub.status.busy": "2025-04-29T15:06:10.020280Z",
     "iopub.status.idle": "2025-04-29T15:06:16.639098Z",
     "shell.execute_reply": "2025-04-29T15:06:16.639098Z"
    }
   },
   "outputs": [],
   "source": [
    "import pandas as pd\n",
    "import numpy as np\n",
    "from sklearn.impute import SimpleImputer\n",
    "from sklearn.preprocessing import OneHotEncoder\n",
    "from sklearn.model_selection import train_test_split\n",
    "from sklearn.linear_model import LinearRegression, Ridge, Lasso, ElasticNet\n",
    "from sklearn.tree import DecisionTreeRegressor\n",
    "from sklearn.ensemble import RandomForestRegressor, GradientBoostingRegressor\n",
    "from sklearn.svm import SVR\n",
    "from sklearn.metrics import mean_absolute_error, mean_squared_error, r2_score\n",
    "import mlflow\n",
    "import mlflow.sklearn\n",
    "import dagshub"
   ]
  },
  {
   "cell_type": "code",
   "execution_count": 2,
   "id": "5a18d9ed",
   "metadata": {
    "execution": {
     "iopub.execute_input": "2025-04-29T15:06:16.639098Z",
     "iopub.status.busy": "2025-04-29T15:06:16.639098Z",
     "iopub.status.idle": "2025-04-29T15:06:31.369633Z",
     "shell.execute_reply": "2025-04-29T15:06:31.369633Z"
    }
   },
   "outputs": [],
   "source": [
    "df = pd.read_excel(r\"D:\\campusx_dsmp2\\9. MLOps revisited\\cars24_mlops_project\\experiment\\cars24_v3.xlsx\")"
   ]
  },
  {
   "cell_type": "code",
   "execution_count": 3,
   "id": "395260d4",
   "metadata": {
    "execution": {
     "iopub.execute_input": "2025-04-29T15:06:31.369633Z",
     "iopub.status.busy": "2025-04-29T15:06:31.369633Z",
     "iopub.status.idle": "2025-04-29T15:06:33.173171Z",
     "shell.execute_reply": "2025-04-29T15:06:33.171124Z"
    }
   },
   "outputs": [
    {
     "data": {
      "text/html": [
       "<pre style=\"white-space:pre;overflow-x:auto;line-height:normal;font-family:Menlo,'DejaVu Sans Mono',consolas,'Courier New',monospace\">Accessing as iamprashantjain\n",
       "</pre>\n"
      ],
      "text/plain": [
       "Accessing as iamprashantjain\n"
      ]
     },
     "metadata": {},
     "output_type": "display_data"
    },
    {
     "data": {
      "text/html": [
       "<pre style=\"white-space:pre;overflow-x:auto;line-height:normal;font-family:Menlo,'DejaVu Sans Mono',consolas,'Courier New',monospace\">Initialized MLflow to track repo <span style=\"color: #008000; text-decoration-color: #008000\">\"iamprashantjain/MLOps_UsedCarPricePrediction\"</span>\n",
       "</pre>\n"
      ],
      "text/plain": [
       "Initialized MLflow to track repo \u001b[32m\"iamprashantjain/MLOps_UsedCarPricePrediction\"\u001b[0m\n"
      ]
     },
     "metadata": {},
     "output_type": "display_data"
    },
    {
     "data": {
      "text/html": [
       "<pre style=\"white-space:pre;overflow-x:auto;line-height:normal;font-family:Menlo,'DejaVu Sans Mono',consolas,'Courier New',monospace\">Repository iamprashantjain/MLOps_UsedCarPricePrediction initialized!\n",
       "</pre>\n"
      ],
      "text/plain": [
       "Repository iamprashantjain/MLOps_UsedCarPricePrediction initialized!\n"
      ]
     },
     "metadata": {},
     "output_type": "display_data"
    },
    {
     "data": {
      "text/plain": [
       "<Experiment: artifact_location='mlflow-artifacts:/7ff86105bf8e4e4588ac9923aa613f86', creation_time=1745938738264, experiment_id='1', last_update_time=1745938738264, lifecycle_stage='active', name='BaseLine Model', tags={}>"
      ]
     },
     "execution_count": 3,
     "metadata": {},
     "output_type": "execute_result"
    }
   ],
   "source": [
    "dagshub.init(repo_owner='iamprashantjain', repo_name='MLOps_UsedCarPricePrediction', mlflow=True)\n",
    "mlflow.set_tracking_uri(\"https://dagshub.com/iamprashantjain/MLOps_UsedCarPricePrediction.mlflow\")\n",
    "mlflow.set_experiment('BaseLine Model')"
   ]
  },
  {
   "cell_type": "code",
   "execution_count": 15,
   "id": "0e46feac",
   "metadata": {
    "execution": {
     "iopub.execute_input": "2025-04-29T15:06:33.181132Z",
     "iopub.status.busy": "2025-04-29T15:06:33.180171Z",
     "iopub.status.idle": "2025-04-29T15:19:51.743207Z",
     "shell.execute_reply": "2025-04-29T15:19:51.743207Z"
    }
   },
   "outputs": [
    {
     "name": "stderr",
     "output_type": "stream",
     "text": [
      "c:\\Users\\iampr\\AppData\\Local\\Programs\\Python\\Python38\\lib\\site-packages\\sklearn\\preprocessing\\_encoders.py:975: FutureWarning: `sparse` was renamed to `sparse_output` in version 1.2 and will be removed in 1.4. `sparse_output` is ignored unless you leave `sparse` to its default value.\n",
      "  warnings.warn(\n",
      "2025/04/29 21:24:01 WARNING mlflow.models.model: Model logged without a signature and input example. Please set `input_example` parameter when logging the model to auto infer the model signature.\n"
     ]
    },
    {
     "name": "stdout",
     "output_type": "stream",
     "text": [
      "Model: LinearRegression\n",
      "  MAE: 273660976.15\n",
      "  MSE: 1522465778255408384.00\n",
      "  R2:  -4931519.64\n",
      "----------------------------------------\n"
     ]
    },
    {
     "name": "stderr",
     "output_type": "stream",
     "text": [
      "2025/04/29 21:24:05 INFO mlflow.tracking._tracking_service.client: 🏃 View run LinearRegression at: https://dagshub.com/iamprashantjain/MLOps_UsedCarPricePrediction.mlflow/#/experiments/1/runs/d6e3917de5294cbbb08a2f88a92847b2.\n",
      "2025/04/29 21:24:05 INFO mlflow.tracking._tracking_service.client: 🧪 View experiment at: https://dagshub.com/iamprashantjain/MLOps_UsedCarPricePrediction.mlflow/#/experiments/1.\n",
      "2025/04/29 21:24:17 WARNING mlflow.models.model: Model logged without a signature and input example. Please set `input_example` parameter when logging the model to auto infer the model signature.\n"
     ]
    },
    {
     "name": "stdout",
     "output_type": "stream",
     "text": [
      "Model: Ridge\n",
      "  MAE: 45748.79\n",
      "  MSE: 3988014745.88\n",
      "  R2:  0.99\n",
      "----------------------------------------\n"
     ]
    },
    {
     "name": "stderr",
     "output_type": "stream",
     "text": [
      "2025/04/29 21:24:21 INFO mlflow.tracking._tracking_service.client: 🏃 View run Ridge at: https://dagshub.com/iamprashantjain/MLOps_UsedCarPricePrediction.mlflow/#/experiments/1/runs/c684af42f8ac48a68679c6eb98245214.\n",
      "2025/04/29 21:24:21 INFO mlflow.tracking._tracking_service.client: 🧪 View experiment at: https://dagshub.com/iamprashantjain/MLOps_UsedCarPricePrediction.mlflow/#/experiments/1.\n",
      "c:\\Users\\iampr\\AppData\\Local\\Programs\\Python\\Python38\\lib\\site-packages\\sklearn\\linear_model\\_coordinate_descent.py:628: ConvergenceWarning: Objective did not converge. You might want to increase the number of iterations, check the scale of the features or consider increasing regularisation. Duality gap: 2.362e+13, tolerance: 3.130e+11\n",
      "  model = cd_fast.enet_coordinate_descent(\n",
      "2025/04/29 21:24:50 WARNING mlflow.models.model: Model logged without a signature and input example. Please set `input_example` parameter when logging the model to auto infer the model signature.\n"
     ]
    },
    {
     "name": "stdout",
     "output_type": "stream",
     "text": [
      "Model: Lasso\n",
      "  MAE: 88298.72\n",
      "  MSE: 51654462347.84\n",
      "  R2:  0.83\n",
      "----------------------------------------\n"
     ]
    },
    {
     "name": "stderr",
     "output_type": "stream",
     "text": [
      "2025/04/29 21:24:54 INFO mlflow.tracking._tracking_service.client: 🏃 View run Lasso at: https://dagshub.com/iamprashantjain/MLOps_UsedCarPricePrediction.mlflow/#/experiments/1/runs/31ea7fc55c7c473dbf9b8e65076f8d36.\n",
      "2025/04/29 21:24:54 INFO mlflow.tracking._tracking_service.client: 🧪 View experiment at: https://dagshub.com/iamprashantjain/MLOps_UsedCarPricePrediction.mlflow/#/experiments/1.\n",
      "c:\\Users\\iampr\\AppData\\Local\\Programs\\Python\\Python38\\lib\\site-packages\\sklearn\\linear_model\\_coordinate_descent.py:628: ConvergenceWarning: Objective did not converge. You might want to increase the number of iterations, check the scale of the features or consider increasing regularisation. Duality gap: 3.142e+14, tolerance: 3.130e+11\n",
      "  model = cd_fast.enet_coordinate_descent(\n",
      "2025/04/29 21:25:31 WARNING mlflow.models.model: Model logged without a signature and input example. Please set `input_example` parameter when logging the model to auto infer the model signature.\n"
     ]
    },
    {
     "name": "stdout",
     "output_type": "stream",
     "text": [
      "Model: ElasticNet\n",
      "  MAE: 107200.91\n",
      "  MSE: 44570036104.87\n",
      "  R2:  0.86\n",
      "----------------------------------------\n"
     ]
    },
    {
     "name": "stderr",
     "output_type": "stream",
     "text": [
      "2025/04/29 21:25:35 INFO mlflow.tracking._tracking_service.client: 🏃 View run ElasticNet at: https://dagshub.com/iamprashantjain/MLOps_UsedCarPricePrediction.mlflow/#/experiments/1/runs/76d2df2445074002b0a35e0cf72bd0c9.\n",
      "2025/04/29 21:25:35 INFO mlflow.tracking._tracking_service.client: 🧪 View experiment at: https://dagshub.com/iamprashantjain/MLOps_UsedCarPricePrediction.mlflow/#/experiments/1.\n",
      "2025/04/29 21:25:44 WARNING mlflow.models.model: Model logged without a signature and input example. Please set `input_example` parameter when logging the model to auto infer the model signature.\n"
     ]
    },
    {
     "name": "stdout",
     "output_type": "stream",
     "text": [
      "Model: DecisionTreeRegressor\n",
      "  MAE: 27147.66\n",
      "  MSE: 48030197550.26\n",
      "  R2:  0.84\n",
      "----------------------------------------\n"
     ]
    },
    {
     "name": "stderr",
     "output_type": "stream",
     "text": [
      "2025/04/29 21:25:48 INFO mlflow.tracking._tracking_service.client: 🏃 View run DecisionTreeRegressor at: https://dagshub.com/iamprashantjain/MLOps_UsedCarPricePrediction.mlflow/#/experiments/1/runs/23aa848619fa46fcab3bb4efcfb9971a.\n",
      "2025/04/29 21:25:48 INFO mlflow.tracking._tracking_service.client: 🧪 View experiment at: https://dagshub.com/iamprashantjain/MLOps_UsedCarPricePrediction.mlflow/#/experiments/1.\n",
      "2025/04/29 21:27:13 WARNING mlflow.models.model: Model logged without a signature and input example. Please set `input_example` parameter when logging the model to auto infer the model signature.\n"
     ]
    },
    {
     "name": "stdout",
     "output_type": "stream",
     "text": [
      "Model: RandomForestRegressor\n",
      "  MAE: 23698.16\n",
      "  MSE: 17767087544.26\n",
      "  R2:  0.94\n",
      "----------------------------------------\n"
     ]
    },
    {
     "name": "stderr",
     "output_type": "stream",
     "text": [
      "2025/04/29 21:27:23 INFO mlflow.tracking._tracking_service.client: 🏃 View run RandomForestRegressor at: https://dagshub.com/iamprashantjain/MLOps_UsedCarPricePrediction.mlflow/#/experiments/1/runs/c0e0a9ebebab4c55a47664b87fbdfb66.\n",
      "2025/04/29 21:27:23 INFO mlflow.tracking._tracking_service.client: 🧪 View experiment at: https://dagshub.com/iamprashantjain/MLOps_UsedCarPricePrediction.mlflow/#/experiments/1.\n",
      "2025/04/29 21:27:56 WARNING mlflow.models.model: Model logged without a signature and input example. Please set `input_example` parameter when logging the model to auto infer the model signature.\n"
     ]
    },
    {
     "name": "stdout",
     "output_type": "stream",
     "text": [
      "Model: GradientBoostingRegressor\n",
      "  MAE: 55549.68\n",
      "  MSE: 26776026141.63\n",
      "  R2:  0.91\n",
      "----------------------------------------\n"
     ]
    },
    {
     "name": "stderr",
     "output_type": "stream",
     "text": [
      "2025/04/29 21:28:00 INFO mlflow.tracking._tracking_service.client: 🏃 View run GradientBoostingRegressor at: https://dagshub.com/iamprashantjain/MLOps_UsedCarPricePrediction.mlflow/#/experiments/1/runs/2b78bb99edeb432b8f3ba3ae509fad3a.\n",
      "2025/04/29 21:28:00 INFO mlflow.tracking._tracking_service.client: 🧪 View experiment at: https://dagshub.com/iamprashantjain/MLOps_UsedCarPricePrediction.mlflow/#/experiments/1.\n",
      "2025/04/29 21:29:38 WARNING mlflow.models.model: Model logged without a signature and input example. Please set `input_example` parameter when logging the model to auto infer the model signature.\n"
     ]
    },
    {
     "name": "stdout",
     "output_type": "stream",
     "text": [
      "Model: SVR\n",
      "  MAE: 321347.51\n",
      "  MSE: 326415385284.65\n",
      "  R2:  -0.06\n",
      "----------------------------------------\n"
     ]
    },
    {
     "name": "stderr",
     "output_type": "stream",
     "text": [
      "2025/04/29 21:29:52 INFO mlflow.tracking._tracking_service.client: 🏃 View run SVR at: https://dagshub.com/iamprashantjain/MLOps_UsedCarPricePrediction.mlflow/#/experiments/1/runs/8e59271a5c424d2b979457b206f4d4c5.\n",
      "2025/04/29 21:29:52 INFO mlflow.tracking._tracking_service.client: 🧪 View experiment at: https://dagshub.com/iamprashantjain/MLOps_UsedCarPricePrediction.mlflow/#/experiments/1.\n",
      "2025/04/29 21:29:53 INFO mlflow.tracking._tracking_service.client: 🏃 View run All_Regression_Models at: https://dagshub.com/iamprashantjain/MLOps_UsedCarPricePrediction.mlflow/#/experiments/1/runs/a223e322b3914636860cc0182e08002d.\n",
      "2025/04/29 21:29:53 INFO mlflow.tracking._tracking_service.client: 🧪 View experiment at: https://dagshub.com/iamprashantjain/MLOps_UsedCarPricePrediction.mlflow/#/experiments/1.\n"
     ]
    }
   ],
   "source": [
    "# Define available models\n",
    "regression_models = {\n",
    "    \"LinearRegression\": LinearRegression(),\n",
    "    \"Ridge\": Ridge(),\n",
    "    \"Lasso\": Lasso(),\n",
    "    \"ElasticNet\": ElasticNet(),\n",
    "    \"DecisionTreeRegressor\": DecisionTreeRegressor(),\n",
    "    \"RandomForestRegressor\": RandomForestRegressor(),\n",
    "    \"GradientBoostingRegressor\": GradientBoostingRegressor(),\n",
    "    \"SVR\": SVR()\n",
    "}\n",
    "\n",
    "# --- Preprocessing ---\n",
    "# Assume df is already loaded\n",
    "numerical_cols = ['listingPrice', 'odometer', 'fitnessAge', 'cashDownPayment', 'emiStartingValue',\n",
    "                  'emiEndingValue', 'roiMinDiscounted', 'roiMaxDiscounted', 'roiMinOriginal',\n",
    "                  'roiMaxOriginal', 'emiOriginalStartingValue', 'emiOriginalEndingValue', 'featureCount', 'avgEmi']\n",
    "\n",
    "categorical_cols = ['make', 'model', 'variant', 'year', 'transmissionType', 'bodyType', 'fuelType',\n",
    "                    'ownership', 'color', '360DegreeCamera', 'AlloyWheels', 'AppleCarplayAndroidAuto',\n",
    "                    'Bluetooth', 'CruiseControl', 'GpsNavigation', 'InfotainmentSystem', 'LeatherSeats',\n",
    "                    'ParkingAssist', 'PushButtonStart', 'RearAc', 'SpecialRegNo', 'Sunroof/Moonroof',\n",
    "                    'TopModel', 'Tpms', 'VentilatedSeats']\n",
    "\n",
    "# Imputation\n",
    "numerical_imputer = SimpleImputer(strategy='mean')\n",
    "df[numerical_cols] = numerical_imputer.fit_transform(df[numerical_cols])\n",
    "\n",
    "categorical_imputer = SimpleImputer(strategy='most_frequent')\n",
    "df[categorical_cols] = categorical_imputer.fit_transform(df[categorical_cols])\n",
    "\n",
    "# Encoding\n",
    "encoder = OneHotEncoder(sparse=False, drop='first')\n",
    "encoded_categorical = encoder.fit_transform(df[categorical_cols])\n",
    "encoded_df = pd.DataFrame(encoded_categorical, columns=encoder.get_feature_names_out(categorical_cols))\n",
    "\n",
    "# Combine features\n",
    "df_encoded = pd.concat([df[numerical_cols], encoded_df], axis=1)\n",
    "\n",
    "# Split\n",
    "X = df_encoded.drop(columns=[\"listingPrice\"])\n",
    "y = df_encoded[\"listingPrice\"]\n",
    "X_train, X_test, y_train, y_test = train_test_split(X, y, test_size=0.2, random_state=42)\n",
    "\n",
    "# --- Main MLflow run with nested runs for each model ---\n",
    "with mlflow.start_run(run_name=\"All_Regression_Models\") as parent_run:\n",
    "    mlflow.set_tag(\"experiment_type\", \"regression_comparison\")\n",
    "    mlflow.log_param(\"test_size\", 0.2)\n",
    "    mlflow.log_param(\"imputer_numerical\", \"mean\")\n",
    "    mlflow.log_param(\"imputer_categorical\", \"most_frequent\")\n",
    "    mlflow.log_param(\"encoder\", \"OneHotEncoder(drop='first')\")\n",
    "\n",
    "    for model_name, model in regression_models.items():\n",
    "        with mlflow.start_run(run_name=model_name, nested=True):\n",
    "            mlflow.log_param(\"model\", model_name)\n",
    "\n",
    "            # Train\n",
    "            model.fit(X_train, y_train)\n",
    "            y_pred = model.predict(X_test)\n",
    "\n",
    "            # Evaluate\n",
    "            mae = mean_absolute_error(y_test, y_pred)\n",
    "            mse = mean_squared_error(y_test, y_pred)\n",
    "            r2 = r2_score(y_test, y_pred)\n",
    "\n",
    "            # Log metrics\n",
    "            mlflow.log_metric(\"mae\", mae)\n",
    "            mlflow.log_metric(\"mse\", mse)\n",
    "            mlflow.log_metric(\"r2_score\", r2)\n",
    "\n",
    "            # Log model\n",
    "            mlflow.sklearn.log_model(model, f\"{model_name}_model\")\n",
    "\n",
    "            print(f\"Model: {model_name}\")\n",
    "            print(f\"  MAE: {mae:.2f}\")\n",
    "            print(f\"  MSE: {mse:.2f}\")\n",
    "            print(f\"  R2:  {r2:.2f}\")\n",
    "            print(\"-\" * 40)"
   ]
  },
  {
   "cell_type": "code",
   "execution_count": null,
   "id": "244fc4b9",
   "metadata": {},
   "outputs": [],
   "source": []
  },
  {
   "cell_type": "code",
   "execution_count": null,
   "id": "6bdd0b1d",
   "metadata": {},
   "outputs": [],
   "source": []
  },
  {
   "cell_type": "code",
   "execution_count": null,
   "id": "ec116da0",
   "metadata": {},
   "outputs": [],
   "source": []
  }
 ],
 "metadata": {
  "kernelspec": {
   "display_name": "Python 3",
   "language": "python",
   "name": "python3"
  },
  "language_info": {
   "codemirror_mode": {
    "name": "ipython",
    "version": 3
   },
   "file_extension": ".py",
   "mimetype": "text/x-python",
   "name": "python",
   "nbconvert_exporter": "python",
   "pygments_lexer": "ipython3",
   "version": "3.8.0"
  }
 },
 "nbformat": 4,
 "nbformat_minor": 5
}
