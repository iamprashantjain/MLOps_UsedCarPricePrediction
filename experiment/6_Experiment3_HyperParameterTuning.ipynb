{
 "cells": [
  {
   "cell_type": "code",
   "execution_count": 25,
   "id": "7fae875a",
   "metadata": {},
   "outputs": [],
   "source": [
    "import os\n",
    "import mlflow\n",
    "import inspect\n",
    "import pandas as pd\n",
    "from sklearn.model_selection import train_test_split\n",
    "from sklearn.pipeline import Pipeline\n",
    "from sklearn.compose import ColumnTransformer\n",
    "from sklearn.preprocessing import StandardScaler, OneHotEncoder, FunctionTransformer\n",
    "from sklearn.impute import SimpleImputer\n",
    "from sklearn.feature_selection import RFECV\n",
    "from sklearn.metrics import mean_absolute_error, mean_squared_error, r2_score\n",
    "from sklearn.linear_model import Lasso"
   ]
  },
  {
   "cell_type": "code",
   "execution_count": 26,
   "id": "42d0db37",
   "metadata": {},
   "outputs": [],
   "source": [
    "df = pd.read_excel(r\"D:\\campusx_dsmp2\\9. MLOps revisited\\cars24_mlops_project\\experiment\\cars24_v3.xlsx\")"
   ]
  },
  {
   "cell_type": "code",
   "execution_count": 27,
   "id": "48dad4d3",
   "metadata": {},
   "outputs": [],
   "source": [
    "# Assuming the dataframe is called df\n",
    "df['year'] = pd.to_numeric(df['year'], errors='coerce')  # Convert 'year' to numeric\n",
    "\n",
    "# Convert 'ownership' to numeric (e.g., 'Owned' -> 1, 'Leased' -> 0)\n",
    "df['ownership'] = df['ownership'].map({'Owned': 1, 'Leased': 0})\n",
    "\n",
    "# Convert boolean-like columns to numeric (1 for True, 0 for False)\n",
    "bool_columns = [\n",
    "    '360DegreeCamera', 'AlloyWheels', 'AppleCarplayAndroidAuto', 'Bluetooth',\n",
    "    'CruiseControl', 'GpsNavigation', 'InfotainmentSystem', 'LeatherSeats',\n",
    "    'ParkingAssist', 'PushButtonStart', 'RearAc', 'SpecialRegNo', 'Sunroof/Moonroof',\n",
    "    'TopModel', 'Tpms', 'VentilatedSeats'\n",
    "]\n",
    "\n",
    "df[bool_columns] = df[bool_columns].applymap(lambda x: 1 if x else 0)"
   ]
  },
  {
   "cell_type": "code",
   "execution_count": 28,
   "id": "59779b60",
   "metadata": {},
   "outputs": [],
   "source": [
    "numerical_cols = df.select_dtypes(include=['number']).columns.tolist()\n",
    "categorical_cols = df.select_dtypes(include=['object', 'bool']).columns.tolist()"
   ]
  },
  {
   "cell_type": "code",
   "execution_count": 29,
   "id": "0ec466d7",
   "metadata": {},
   "outputs": [
    {
     "data": {
      "text/html": [
       "<pre style=\"white-space:pre;overflow-x:auto;line-height:normal;font-family:Menlo,'DejaVu Sans Mono',consolas,'Courier New',monospace\">Initialized MLflow to track repo <span style=\"color: #008000; text-decoration-color: #008000\">\"iamprashantjain/MLOps_UsedCarPricePrediction\"</span>\n",
       "</pre>\n"
      ],
      "text/plain": [
       "Initialized MLflow to track repo \u001b[32m\"iamprashantjain/MLOps_UsedCarPricePrediction\"\u001b[0m\n"
      ]
     },
     "metadata": {},
     "output_type": "display_data"
    },
    {
     "data": {
      "text/html": [
       "<pre style=\"white-space:pre;overflow-x:auto;line-height:normal;font-family:Menlo,'DejaVu Sans Mono',consolas,'Courier New',monospace\">Repository iamprashantjain/MLOps_UsedCarPricePrediction initialized!\n",
       "</pre>\n"
      ],
      "text/plain": [
       "Repository iamprashantjain/MLOps_UsedCarPricePrediction initialized!\n"
      ]
     },
     "metadata": {},
     "output_type": "display_data"
    },
    {
     "data": {
      "text/plain": [
       "<Experiment: artifact_location='mlflow-artifacts:/df404e35cc254c3f97726665f82eab68', creation_time=1746072220517, experiment_id='3', last_update_time=1746072220517, lifecycle_stage='active', name='Hyper parameter Tuning', tags={}>"
      ]
     },
     "execution_count": 29,
     "metadata": {},
     "output_type": "execute_result"
    }
   ],
   "source": [
    "import dagshub\n",
    "dagshub.init(repo_owner='iamprashantjain', repo_name='MLOps_UsedCarPricePrediction', mlflow=True)\n",
    "mlflow.set_tracking_uri(\"https://dagshub.com/iamprashantjain/MLOps_UsedCarPricePrediction.mlflow\")\n",
    "mlflow.set_experiment('Hyper parameter Tuning')"
   ]
  },
  {
   "cell_type": "code",
   "execution_count": null,
   "id": "e3246aff",
   "metadata": {},
   "outputs": [],
   "source": [
    "from sklearn.model_selection import train_test_split, GridSearchCV\n",
    "\n",
    "# Define target and features\n",
    "target_col = \"listingPrice\"\n",
    "X = df.drop(columns=[target_col])\n",
    "y = df[target_col]\n",
    "\n",
    "# Train-test split\n",
    "X_train, X_test, y_train, y_test = train_test_split(X, y, test_size=0.2, random_state=42)\n",
    "\n",
    "# Identify column types\n",
    "numerical_cols = X_train.select_dtypes(include=['number']).columns.tolist()\n",
    "categorical_cols = X_train.select_dtypes(include=['object', 'bool']).columns.tolist()\n",
    "\n",
    "# Preprocessing components\n",
    "numeric_pipeline = Pipeline([\n",
    "    ('imputer', SimpleImputer(strategy='mean')),\n",
    "    ('scaler', StandardScaler())\n",
    "])\n",
    "\n",
    "categorical_pipeline = Pipeline([\n",
    "    ('imputer', SimpleImputer(strategy='most_frequent')),\n",
    "    ('encoder', OneHotEncoder(drop='first', sparse=False, handle_unknown='ignore'))\n",
    "])\n",
    "\n",
    "preprocessor = ColumnTransformer([\n",
    "    ('num', numeric_pipeline, numerical_cols),\n",
    "    ('cat', categorical_pipeline, categorical_cols)\n",
    "])\n",
    "\n",
    "# Define base model\n",
    "lasso = Lasso(max_iter=10000)\n",
    "\n",
    "# Full pipeline with preprocessing, feature selection, and regression\n",
    "full_pipeline = Pipeline([\n",
    "    ('preprocessor', preprocessor),\n",
    "    ('feature_selector', RFECV(estimator=lasso, step=1, cv=3, scoring='r2')),\n",
    "    ('model', lasso)\n",
    "])\n",
    "\n",
    "# Hyperparameter grid for Lasso\n",
    "param_grid = {\n",
    "    'model__alpha': [0.001, 0.01, 0.1, 0.5, 1.0, 10.0]\n",
    "}\n",
    "\n",
    "# Grid Search\n",
    "grid_search = GridSearchCV(\n",
    "    full_pipeline,\n",
    "    param_grid=param_grid,\n",
    "    cv=3,\n",
    "    scoring='r2',\n",
    "    n_jobs=-1\n",
    ")\n",
    "\n",
    "# Start MLflow run\n",
    "with mlflow.start_run(run_name=\"Lasso_RFECV_HyperparamTuning\") as parent_run:\n",
    "    mlflow.set_tag(\"experiment_type\", \"Lasso_with_RFECV_GridSearch\")\n",
    "\n",
    "    # Log source code file (optional)\n",
    "    try:\n",
    "        mlflow.log_artifact(\n",
    "            r\"D:\\campusx_dsmp2\\9. MLOps revisited\\cars24_mlops_project\\experiment\\6_Experiment3_HyperParameterTuning.ipynb\",\n",
    "            artifact_path=\"source_code\"\n",
    "        )\n",
    "    except:\n",
    "        print(\"⚠️ Could not log notebook file.\")\n",
    "\n",
    "    try:\n",
    "        # Fit grid search on raw X_train\n",
    "        grid_search.fit(X_train, y_train)\n",
    "        best_model = grid_search.best_estimator_\n",
    "        y_pred = best_model.predict(X_test)\n",
    "\n",
    "        # Evaluate\n",
    "        mae = mean_absolute_error(y_test, y_pred)\n",
    "        mse = mean_squared_error(y_test, y_pred)\n",
    "        r2 = r2_score(y_test, y_pred)\n",
    "\n",
    "        # Log parameters and metrics\n",
    "        mlflow.log_param(\"model\", \"Lasso\")\n",
    "        mlflow.log_param(\"scaler\", \"StandardScaler\")\n",
    "        mlflow.log_param(\"imputer\", \"SimpleMean\")\n",
    "        mlflow.log_param(\"vectorizer\", \"OHE\")\n",
    "        mlflow.log_param(\"feature_selector\", \"RFECV\")\n",
    "        mlflow.log_param(\"best_alpha\", grid_search.best_params_['model__alpha'])\n",
    "\n",
    "        mlflow.log_metric(\"MAE\", mae)\n",
    "        mlflow.log_metric(\"MSE\", mse)\n",
    "        mlflow.log_metric(\"R2\", r2)\n",
    "\n",
    "        # Log model\n",
    "        mlflow.sklearn.log_model(best_model, artifact_path=\"lasso_rfecv_model\")\n",
    "\n",
    "        # Save and log predictions\n",
    "        results_df = pd.DataFrame({\n",
    "            \"Actual\": y_test,\n",
    "            \"Predicted\": y_pred\n",
    "        })\n",
    "        results_file = \"lasso_rfecv_results.csv\"\n",
    "        results_df.to_csv(results_file, index=False)\n",
    "        mlflow.log_artifact(results_file, artifact_path=\"predictions\")\n",
    "        os.remove(results_file)\n",
    "\n",
    "        print(f\"✅ Lasso + RFECV | Best Alpha: {grid_search.best_params_['model__alpha']} | MAE: {mae:.2f}, R2: {r2:.2f}\")\n",
    "\n",
    "    except Exception as e:\n",
    "        print(f\"❌ Error in Lasso + RFECV: {e}\")\n",
    "        mlflow.log_param(\"error\", str(e))"
   ]
  },
  {
   "cell_type": "code",
   "execution_count": null,
   "id": "0bebcc52",
   "metadata": {},
   "outputs": [],
   "source": []
  }
 ],
 "metadata": {
  "kernelspec": {
   "display_name": "Python 3",
   "language": "python",
   "name": "python3"
  },
  "language_info": {
   "codemirror_mode": {
    "name": "ipython",
    "version": 3
   },
   "file_extension": ".py",
   "mimetype": "text/x-python",
   "name": "python",
   "nbconvert_exporter": "python",
   "pygments_lexer": "ipython3",
   "version": "3.8.0"
  }
 },
 "nbformat": 4,
 "nbformat_minor": 5
}
