{
 "cells": [
  {
   "cell_type": "code",
   "execution_count": 69,
   "id": "e8e09c20",
   "metadata": {},
   "outputs": [],
   "source": [
    "import pandas as pd\n",
    "import numpy as np\n",
    "import ast\n",
    "from sklearn.preprocessing import MultiLabelBinarizer"
   ]
  },
  {
   "cell_type": "code",
   "execution_count": 70,
   "id": "dbce8636",
   "metadata": {},
   "outputs": [],
   "source": [
    "df = pd.read_excel(\"cars24_v1.xlsx\")"
   ]
  },
  {
   "cell_type": "code",
   "execution_count": 71,
   "id": "d1839251",
   "metadata": {},
   "outputs": [
    {
     "data": {
      "text/html": [
       "<div>\n",
       "<style scoped>\n",
       "    .dataframe tbody tr th:only-of-type {\n",
       "        vertical-align: middle;\n",
       "    }\n",
       "\n",
       "    .dataframe tbody tr th {\n",
       "        vertical-align: top;\n",
       "    }\n",
       "\n",
       "    .dataframe thead th {\n",
       "        text-align: right;\n",
       "    }\n",
       "</style>\n",
       "<table border=\"1\" class=\"dataframe\">\n",
       "  <thead>\n",
       "    <tr style=\"text-align: right;\">\n",
       "      <th></th>\n",
       "      <th>appointmentId</th>\n",
       "      <th>listingPrice</th>\n",
       "      <th>carName</th>\n",
       "      <th>make</th>\n",
       "      <th>model</th>\n",
       "      <th>variant</th>\n",
       "      <th>year</th>\n",
       "      <th>transmissionType</th>\n",
       "      <th>bodyType</th>\n",
       "      <th>fuelType</th>\n",
       "      <th>ownership</th>\n",
       "      <th>registrationDate</th>\n",
       "      <th>cityRto</th>\n",
       "      <th>color</th>\n",
       "      <th>odometer</th>\n",
       "      <th>emiDetails</th>\n",
       "      <th>modelGroup</th>\n",
       "      <th>fitnessAge</th>\n",
       "      <th>features</th>\n",
       "    </tr>\n",
       "  </thead>\n",
       "  <tbody>\n",
       "    <tr>\n",
       "      <th>2664</th>\n",
       "      <td>11411786751</td>\n",
       "      <td>534245</td>\n",
       "      <td>Skoda Rapid</td>\n",
       "      <td>Skoda</td>\n",
       "      <td>Rapid</td>\n",
       "      <td>AMBITION 1.6 MPI MT</td>\n",
       "      <td>2019</td>\n",
       "      <td>{'value': 'Manual', 'display': 'Manual'}</td>\n",
       "      <td>Sedan</td>\n",
       "      <td>Petrol</td>\n",
       "      <td>1</td>\n",
       "      <td>1567296000000</td>\n",
       "      <td>GJ01</td>\n",
       "      <td>Silver</td>\n",
       "      <td>{'value': 79013, 'display': '79.01k km'}</td>\n",
       "      <td>{'cashDownPayment': 0, 'emiStartingValue': 104...</td>\n",
       "      <td>Rapid</td>\n",
       "      <td>15</td>\n",
       "      <td>['InfotainmentSystem', 'RearAc', 'AlloyWheels'...</td>\n",
       "    </tr>\n",
       "    <tr>\n",
       "      <th>7272</th>\n",
       "      <td>DLR1000466</td>\n",
       "      <td>435000</td>\n",
       "      <td>Maruti Swift</td>\n",
       "      <td>Maruti</td>\n",
       "      <td>Swift</td>\n",
       "      <td>LXI</td>\n",
       "      <td>2018</td>\n",
       "      <td>{'value': 'Manual', 'display': 'Manual'}</td>\n",
       "      <td>Hatchback</td>\n",
       "      <td>Petrol</td>\n",
       "      <td>1</td>\n",
       "      <td>1546300800000</td>\n",
       "      <td>JH01</td>\n",
       "      <td>Blue</td>\n",
       "      <td>{'value': 71000, 'display': '71.00k km'}</td>\n",
       "      <td>{'cashDownPayment': 0, 'emiStartingValue': 850...</td>\n",
       "      <td>Swift</td>\n",
       "      <td>15</td>\n",
       "      <td>[]</td>\n",
       "    </tr>\n",
       "    <tr>\n",
       "      <th>1741</th>\n",
       "      <td>23321240791</td>\n",
       "      <td>503000</td>\n",
       "      <td>Tata Tiago</td>\n",
       "      <td>Tata</td>\n",
       "      <td>Tiago</td>\n",
       "      <td>XZA PLUS PETROL</td>\n",
       "      <td>2020</td>\n",
       "      <td>{'value': 'Automatic', 'display': 'Auto'}</td>\n",
       "      <td>Hatchback</td>\n",
       "      <td>Petrol</td>\n",
       "      <td>1</td>\n",
       "      <td>1593561600000</td>\n",
       "      <td>HR03</td>\n",
       "      <td>White</td>\n",
       "      <td>{'value': 20036, 'display': '20.04k km'}</td>\n",
       "      <td>{'cashDownPayment': 0, 'emiStartingValue': 983...</td>\n",
       "      <td>Tiago</td>\n",
       "      <td>15</td>\n",
       "      <td>['InfotainmentSystem', 'AlloyWheels', 'Bluetoo...</td>\n",
       "    </tr>\n",
       "    <tr>\n",
       "      <th>6099</th>\n",
       "      <td>10288548794</td>\n",
       "      <td>872000</td>\n",
       "      <td>Maruti Baleno</td>\n",
       "      <td>Maruti</td>\n",
       "      <td>Baleno</td>\n",
       "      <td>ALPHA PETROL 1.2</td>\n",
       "      <td>2023</td>\n",
       "      <td>{'value': 'Manual', 'display': 'Manual'}</td>\n",
       "      <td>Hatchback</td>\n",
       "      <td>Petrol</td>\n",
       "      <td>1</td>\n",
       "      <td>1690848000000</td>\n",
       "      <td>KA03</td>\n",
       "      <td>White</td>\n",
       "      <td>{'value': 9765, 'display': '9.77k km'}</td>\n",
       "      <td>{'cashDownPayment': 0, 'emiStartingValue': 165...</td>\n",
       "      <td>Baleno</td>\n",
       "      <td>15</td>\n",
       "      <td>['InfotainmentSystem', 'RearAc', 'AlloyWheels'...</td>\n",
       "    </tr>\n",
       "    <tr>\n",
       "      <th>2290</th>\n",
       "      <td>13505048770</td>\n",
       "      <td>704000</td>\n",
       "      <td>Hyundai Verna</td>\n",
       "      <td>Hyundai</td>\n",
       "      <td>Verna</td>\n",
       "      <td>1.6 VTVT SX</td>\n",
       "      <td>2019</td>\n",
       "      <td>{'value': 'Manual', 'display': 'Manual'}</td>\n",
       "      <td>Sedan</td>\n",
       "      <td>Petrol</td>\n",
       "      <td>1</td>\n",
       "      <td>1577836800000</td>\n",
       "      <td>GJ26</td>\n",
       "      <td>NaN</td>\n",
       "      <td>{'value': 56230, 'display': '56.23k km'}</td>\n",
       "      <td>{'cashDownPayment': 0, 'emiStartingValue': 137...</td>\n",
       "      <td>Verna</td>\n",
       "      <td>15</td>\n",
       "      <td>['AlloyWheels', 'Bluetooth', 'ParkingAssist', ...</td>\n",
       "    </tr>\n",
       "  </tbody>\n",
       "</table>\n",
       "</div>"
      ],
      "text/plain": [
       "     appointmentId  listingPrice        carName     make   model  \\\n",
       "2664   11411786751        534245    Skoda Rapid    Skoda   Rapid   \n",
       "7272    DLR1000466        435000   Maruti Swift   Maruti   Swift   \n",
       "1741   23321240791        503000     Tata Tiago     Tata   Tiago   \n",
       "6099   10288548794        872000  Maruti Baleno   Maruti  Baleno   \n",
       "2290   13505048770        704000  Hyundai Verna  Hyundai   Verna   \n",
       "\n",
       "                  variant  year                           transmissionType  \\\n",
       "2664  AMBITION 1.6 MPI MT  2019   {'value': 'Manual', 'display': 'Manual'}   \n",
       "7272                  LXI  2018   {'value': 'Manual', 'display': 'Manual'}   \n",
       "1741      XZA PLUS PETROL  2020  {'value': 'Automatic', 'display': 'Auto'}   \n",
       "6099     ALPHA PETROL 1.2  2023   {'value': 'Manual', 'display': 'Manual'}   \n",
       "2290          1.6 VTVT SX  2019   {'value': 'Manual', 'display': 'Manual'}   \n",
       "\n",
       "       bodyType fuelType  ownership  registrationDate cityRto   color  \\\n",
       "2664      Sedan   Petrol          1     1567296000000    GJ01  Silver   \n",
       "7272  Hatchback   Petrol          1     1546300800000    JH01    Blue   \n",
       "1741  Hatchback   Petrol          1     1593561600000    HR03   White   \n",
       "6099  Hatchback   Petrol          1     1690848000000    KA03   White   \n",
       "2290      Sedan   Petrol          1     1577836800000    GJ26     NaN   \n",
       "\n",
       "                                      odometer  \\\n",
       "2664  {'value': 79013, 'display': '79.01k km'}   \n",
       "7272  {'value': 71000, 'display': '71.00k km'}   \n",
       "1741  {'value': 20036, 'display': '20.04k km'}   \n",
       "6099    {'value': 9765, 'display': '9.77k km'}   \n",
       "2290  {'value': 56230, 'display': '56.23k km'}   \n",
       "\n",
       "                                             emiDetails modelGroup  \\\n",
       "2664  {'cashDownPayment': 0, 'emiStartingValue': 104...      Rapid   \n",
       "7272  {'cashDownPayment': 0, 'emiStartingValue': 850...      Swift   \n",
       "1741  {'cashDownPayment': 0, 'emiStartingValue': 983...      Tiago   \n",
       "6099  {'cashDownPayment': 0, 'emiStartingValue': 165...     Baleno   \n",
       "2290  {'cashDownPayment': 0, 'emiStartingValue': 137...      Verna   \n",
       "\n",
       "      fitnessAge                                           features  \n",
       "2664          15  ['InfotainmentSystem', 'RearAc', 'AlloyWheels'...  \n",
       "7272          15                                                 []  \n",
       "1741          15  ['InfotainmentSystem', 'AlloyWheels', 'Bluetoo...  \n",
       "6099          15  ['InfotainmentSystem', 'RearAc', 'AlloyWheels'...  \n",
       "2290          15  ['AlloyWheels', 'Bluetooth', 'ParkingAssist', ...  "
      ]
     },
     "execution_count": 71,
     "metadata": {},
     "output_type": "execute_result"
    }
   ],
   "source": [
    "df.sample(5)"
   ]
  },
  {
   "cell_type": "markdown",
   "id": "20db88ae",
   "metadata": {},
   "source": [
    "**cleaning required**\n",
    "\n",
    "- `transmission`: contains dictionary, need to extract values\n",
    "- `registrationDate`: change this to datetime format\n",
    "- `cityRto`: city info, map this with city\n",
    "- `odometer`: extract odometer reading\n",
    "- `emiDetails`: expand this column for more information\n",
    "- `features`: features of car ( need to process them differently)"
   ]
  },
  {
   "cell_type": "markdown",
   "id": "86cd7db7",
   "metadata": {},
   "source": [
    "##### registrationDate"
   ]
  },
  {
   "cell_type": "code",
   "execution_count": 72,
   "id": "c48bbca4",
   "metadata": {},
   "outputs": [
    {
     "data": {
      "text/plain": [
       "0       1630454400000\n",
       "1       1627776000000\n",
       "2       1706745600000\n",
       "3       1575158400000\n",
       "4       1554076800000\n",
       "            ...      \n",
       "7386    1527811200000\n",
       "7387    1682899200000\n",
       "7388    1575158400000\n",
       "7389    1627776000000\n",
       "7390    1646092800000\n",
       "Name: registrationDate, Length: 7391, dtype: int64"
      ]
     },
     "execution_count": 72,
     "metadata": {},
     "output_type": "execute_result"
    }
   ],
   "source": [
    "df['registrationDate']"
   ]
  },
  {
   "cell_type": "code",
   "execution_count": 73,
   "id": "45b827e6",
   "metadata": {},
   "outputs": [],
   "source": [
    "df['registrationDate'] = pd.to_datetime(df['registrationDate'], unit='ms').dt.date"
   ]
  },
  {
   "cell_type": "code",
   "execution_count": 74,
   "id": "7062d9b8",
   "metadata": {},
   "outputs": [
    {
     "data": {
      "text/plain": [
       "0       2021-09-01\n",
       "1       2021-08-01\n",
       "2       2024-02-01\n",
       "3       2019-12-01\n",
       "4       2019-04-01\n",
       "           ...    \n",
       "7386    2018-06-01\n",
       "7387    2023-05-01\n",
       "7388    2019-12-01\n",
       "7389    2021-08-01\n",
       "7390    2022-03-01\n",
       "Name: registrationDate, Length: 7391, dtype: object"
      ]
     },
     "execution_count": 74,
     "metadata": {},
     "output_type": "execute_result"
    }
   ],
   "source": [
    "df['registrationDate']"
   ]
  },
  {
   "cell_type": "markdown",
   "id": "432ac654",
   "metadata": {},
   "source": [
    "##### odometer"
   ]
  },
  {
   "cell_type": "code",
   "execution_count": 75,
   "id": "a3fabccf",
   "metadata": {},
   "outputs": [
    {
     "data": {
      "text/plain": [
       "\"{'value': 74426, 'display': '74.43k km'}\""
      ]
     },
     "execution_count": 75,
     "metadata": {},
     "output_type": "execute_result"
    }
   ],
   "source": [
    "df['odometer'].iloc[0]"
   ]
  },
  {
   "cell_type": "code",
   "execution_count": 76,
   "id": "d7d16692",
   "metadata": {},
   "outputs": [],
   "source": [
    "df['odometer'] = df['odometer'].apply(lambda x: ast.literal_eval(x)['value'])"
   ]
  },
  {
   "cell_type": "markdown",
   "id": "d4a94325",
   "metadata": {},
   "source": [
    "##### emiDetails"
   ]
  },
  {
   "cell_type": "code",
   "execution_count": 77,
   "id": "82c66416",
   "metadata": {},
   "outputs": [
    {
     "data": {
      "text/plain": [
       "\"{'cashDownPayment': 0, 'emiStartingValue': 14956, 'emiEndingValue': 14956, 'roiMinDiscounted': 12.0, 'roiMaxDiscounted': 12.0, 'roiMinOriginal': 12.0, 'roiMaxOriginal': 12.0, 'emiOriginalStartingValue': 14956, 'emiOriginalEndingValue': 14956, 'tenure': 72, 'displayText': 'EMI ₹14,956/m', 'notAvailableText': 'Not available on EMI'}\""
      ]
     },
     "execution_count": 77,
     "metadata": {},
     "output_type": "execute_result"
    }
   ],
   "source": [
    "df['emiDetails'].iloc[0]"
   ]
  },
  {
   "cell_type": "code",
   "execution_count": 78,
   "id": "d1ebfa1b",
   "metadata": {},
   "outputs": [],
   "source": [
    "df['emiDetails'] = df['emiDetails'].apply(ast.literal_eval)\n",
    "\n",
    "# Normalize the dictionary into separate columns\n",
    "emi_df = pd.json_normalize(df['emiDetails'])\n",
    "\n",
    "# Join back to the original DataFrame (optional)\n",
    "df = df.drop(columns='emiDetails').join(emi_df)"
   ]
  },
  {
   "cell_type": "markdown",
   "id": "4a207527",
   "metadata": {},
   "source": [
    "##### transmission"
   ]
  },
  {
   "cell_type": "code",
   "execution_count": 79,
   "id": "01f1f9b1",
   "metadata": {},
   "outputs": [],
   "source": [
    "df['transmissionType'] = df['transmissionType'].apply(lambda x: ast.literal_eval(x)['value'])"
   ]
  },
  {
   "cell_type": "markdown",
   "id": "2e38c146",
   "metadata": {},
   "source": [
    "##### cityRto"
   ]
  },
  {
   "cell_type": "code",
   "execution_count": 80,
   "id": "b6ddc63c",
   "metadata": {},
   "outputs": [
    {
     "data": {
      "text/plain": [
       "0       HR03\n",
       "1       HR78\n",
       "2       HR12\n",
       "3       HR10\n",
       "4       HR12\n",
       "        ... \n",
       "7386    JH01\n",
       "7387    JH01\n",
       "7388    JH05\n",
       "7389    JH01\n",
       "7390    JH05\n",
       "Name: cityRto, Length: 7391, dtype: object"
      ]
     },
     "execution_count": 80,
     "metadata": {},
     "output_type": "execute_result"
    }
   ],
   "source": [
    "df['cityRto']"
   ]
  },
  {
   "cell_type": "code",
   "execution_count": 81,
   "id": "cfd7c9b8",
   "metadata": {},
   "outputs": [],
   "source": [
    "rto_df = pd.read_csv(r'D:\\campusx_dsmp2\\9. MLOps revisited\\cars24_mlops_project\\rto_codes.csv')"
   ]
  },
  {
   "cell_type": "code",
   "execution_count": 82,
   "id": "7613bad0",
   "metadata": {},
   "outputs": [],
   "source": [
    "rto_df['rto_code'] = rto_df['state_name'] + rto_df['city_code'].astype(str).str.zfill(2)"
   ]
  },
  {
   "cell_type": "code",
   "execution_count": 83,
   "id": "12dd0dc7",
   "metadata": {},
   "outputs": [],
   "source": [
    "rto_to_city = dict(zip(rto_df['rto_code'], rto_df['city_name']))"
   ]
  },
  {
   "cell_type": "code",
   "execution_count": 84,
   "id": "6b3b080f",
   "metadata": {},
   "outputs": [],
   "source": [
    "df['registeredCity'] = df['cityRto'].map(rto_to_city)"
   ]
  },
  {
   "cell_type": "code",
   "execution_count": 85,
   "id": "fa517656",
   "metadata": {},
   "outputs": [
    {
     "data": {
      "text/plain": [
       "0        PANCHKULA, HR\n",
       "1         SHAHABAD, HR\n",
       "2           ROHTAK, HR\n",
       "3          SONIPAT, HR\n",
       "4           ROHTAK, HR\n",
       "             ...      \n",
       "7386        RANCHI, JH\n",
       "7387        RANCHI, JH\n",
       "7388    JAMSHEDPUR, JH\n",
       "7389        RANCHI, JH\n",
       "7390    JAMSHEDPUR, JH\n",
       "Name: registeredCity, Length: 7391, dtype: object"
      ]
     },
     "execution_count": 85,
     "metadata": {},
     "output_type": "execute_result"
    }
   ],
   "source": [
    "df['registeredCity']"
   ]
  },
  {
   "cell_type": "markdown",
   "id": "ea9a105a",
   "metadata": {},
   "source": [
    "##### features"
   ]
  },
  {
   "cell_type": "code",
   "execution_count": 86,
   "id": "d0d94f49",
   "metadata": {},
   "outputs": [
    {
     "data": {
      "text/plain": [
       "0       ['InfotainmentSystem', 'Bluetooth', 'ParkingAs...\n",
       "1       ['InfotainmentSystem', 'RearAc', 'Sunroof/Moon...\n",
       "2                               ['ParkingAssist', 'Tpms']\n",
       "3                                       ['ParkingAssist']\n",
       "4                          ['Bluetooth', 'ParkingAssist']\n",
       "                              ...                        \n",
       "7386    ['InfotainmentSystem', 'RearAc', 'LeatherSeats...\n",
       "7387    ['InfotainmentSystem', 'RearAc', 'Sunroof/Moon...\n",
       "7388    ['InfotainmentSystem', 'RearAc', 'LeatherSeats...\n",
       "7389    ['InfotainmentSystem', 'RearAc', 'LeatherSeats...\n",
       "7390    ['InfotainmentSystem', 'RearAc', 'Sunroof/Moon...\n",
       "Name: features, Length: 7391, dtype: object"
      ]
     },
     "execution_count": 86,
     "metadata": {},
     "output_type": "execute_result"
    }
   ],
   "source": [
    "df['features']"
   ]
  },
  {
   "cell_type": "code",
   "execution_count": 87,
   "id": "edcdd8c9",
   "metadata": {},
   "outputs": [],
   "source": [
    "import ast\n",
    "from itertools import chain\n",
    "\n",
    "# Convert string representations to actual lists\n",
    "df['features'] = df['features'].apply(ast.literal_eval)\n",
    "\n",
    "# Now extract all unique features correctly\n",
    "all_features = set(chain.from_iterable(df['features']))"
   ]
  },
  {
   "cell_type": "code",
   "execution_count": 88,
   "id": "b119d094",
   "metadata": {},
   "outputs": [
    {
     "data": {
      "text/plain": [
       "{'360DegreeCamera',\n",
       " 'AlloyWheels',\n",
       " 'AppleCarplayAndroidAuto',\n",
       " 'Bluetooth',\n",
       " 'CruiseControl',\n",
       " 'GpsNavigation',\n",
       " 'InfotainmentSystem',\n",
       " 'LeatherSeats',\n",
       " 'ParkingAssist',\n",
       " 'PushButtonStart',\n",
       " 'RearAc',\n",
       " 'SpecialRegNo',\n",
       " 'Sunroof/Moonroof',\n",
       " 'TopModel',\n",
       " 'Tpms',\n",
       " 'VentilatedSeats'}"
      ]
     },
     "execution_count": 88,
     "metadata": {},
     "output_type": "execute_result"
    }
   ],
   "source": [
    "all_features"
   ]
  },
  {
   "cell_type": "code",
   "execution_count": 89,
   "id": "1d961616",
   "metadata": {},
   "outputs": [],
   "source": [
    "# Initialize the binarizer\n",
    "mlb = MultiLabelBinarizer()\n",
    "\n",
    "# Transform the features list into a binary DataFrame\n",
    "features_encoded = pd.DataFrame(mlb.fit_transform(df['features']),\n",
    "                                columns=mlb.classes_,\n",
    "                                index=df.index)\n",
    "\n",
    "# Join the encoded features back to the original DataFrame\n",
    "df = df.join(features_encoded)"
   ]
  },
  {
   "cell_type": "code",
   "execution_count": 90,
   "id": "11911adb",
   "metadata": {},
   "outputs": [
    {
     "data": {
      "text/plain": [
       "(7391, 47)"
      ]
     },
     "execution_count": 90,
     "metadata": {},
     "output_type": "execute_result"
    }
   ],
   "source": [
    "df.shape"
   ]
  },
  {
   "cell_type": "markdown",
   "id": "54a55d41",
   "metadata": {},
   "source": [
    "##### export df"
   ]
  },
  {
   "cell_type": "code",
   "execution_count": 91,
   "id": "bfef9090",
   "metadata": {},
   "outputs": [],
   "source": [
    "df.to_excel(\"cars24_v2.xlsx\", index=False)"
   ]
  },
  {
   "cell_type": "code",
   "execution_count": null,
   "id": "0ceec136",
   "metadata": {},
   "outputs": [],
   "source": []
  }
 ],
 "metadata": {
  "kernelspec": {
   "display_name": "Python 3",
   "language": "python",
   "name": "python3"
  },
  "language_info": {
   "codemirror_mode": {
    "name": "ipython",
    "version": 3
   },
   "file_extension": ".py",
   "mimetype": "text/x-python",
   "name": "python",
   "nbconvert_exporter": "python",
   "pygments_lexer": "ipython3",
   "version": "3.8.0"
  }
 },
 "nbformat": 4,
 "nbformat_minor": 5
}
